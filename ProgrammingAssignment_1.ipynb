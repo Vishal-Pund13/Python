{
 "cells": [
  {
   "cell_type": "markdown",
   "metadata": {},
   "source": [
    "1. Write a Python program to print \"Hello Python\"?\n",
    "\n"
   ]
  },
  {
   "cell_type": "code",
   "execution_count": 1,
   "metadata": {},
   "outputs": [
    {
     "name": "stdout",
     "output_type": "stream",
     "text": [
      "Hello Python\n"
     ]
    }
   ],
   "source": [
    "print(\"Hello Python\")"
   ]
  },
  {
   "cell_type": "markdown",
   "metadata": {},
   "source": [
    "2. Write a Python program to do arithmetical operations addition and division.?\n",
    "\n"
   ]
  },
  {
   "cell_type": "code",
   "execution_count": 3,
   "metadata": {},
   "outputs": [
    {
     "name": "stdout",
     "output_type": "stream",
     "text": [
      "Which operations you want to perform 1) Add 2) Division 3) Exit : 1\n",
      "a = 5\n",
      "b = 6\n",
      "Addition is :  11\n",
      "Which operations you want to perform 1) Add 2) Division 3) Exit : 2\n",
      "a = 56\n",
      "b = 4\n",
      "Division is :  14.0\n",
      "Which operations you want to perform 1) Add 2) Division 3) Exit : 3\n"
     ]
    }
   ],
   "source": [
    "check = True\n",
    "while(check):\n",
    "    n = int(input(\"Which operations you want to perform 1) Add 2) Division 3) Exit : \"))\n",
    "    if n==3:\n",
    "        break\n",
    "    a = int(input(\"a = \"))\n",
    "    b = int(input(\"b = \"))\n",
    "    if n==2:\n",
    "        try:\n",
    "            if b==0:\n",
    "                raise Exception\n",
    "        except Exception as e:\n",
    "            print(\"OOPS!!! Numerator is zero.\",e)\n",
    "        else:\n",
    "            print(\"Division is : \",a/b)\n",
    "    else:\n",
    "        print(\"Addition is : \",a+b)"
   ]
  },
  {
   "cell_type": "markdown",
   "metadata": {},
   "source": [
    "3. Write a Python program to find the area of a triangle?\n",
    "\n"
   ]
  },
  {
   "cell_type": "code",
   "execution_count": 19,
   "metadata": {},
   "outputs": [
    {
     "name": "stdout",
     "output_type": "stream",
     "text": [
      "Enter Sides of Triangle : \n",
      "a : 4\n",
      "b : 5\n",
      "c : 6\n",
      "Area of Triangle is :  9.921567416492215\n"
     ]
    }
   ],
   "source": [
    "print(\"Enter Sides of Triangle : \")\n",
    "a = float(input(\"a : \"))\n",
    "b = float(input(\"b : \"))\n",
    "c = float(input(\"c : \"))\n",
    "try:\n",
    "    if((a==0 or b==0 or c==0) or (a+b)<=c or (b+c)<=a or (c+a)<=b): #To check whether Triangle is possible or not.\n",
    "        raise Exception\n",
    "except Exception as e:\n",
    "    print(\"OOPS!!! You have entered wrong side\")\n",
    "else:\n",
    "    s = (a+b+c)/2\n",
    "    area = (s*(s-a)*(s-b)*(s-c))**(0.5)\n",
    "    print(\"Area of Triangle is : \", area)"
   ]
  },
  {
   "cell_type": "markdown",
   "metadata": {},
   "source": [
    "4.Write a Python program to swap two variables?\n",
    "\n"
   ]
  },
  {
   "cell_type": "code",
   "execution_count": 22,
   "metadata": {},
   "outputs": [
    {
     "name": "stdout",
     "output_type": "stream",
     "text": [
      "Enter a : 5\n",
      "Enter b : 6\n",
      "After Swap a is 6 and b is 5\n"
     ]
    }
   ],
   "source": [
    "a = int(input(\"Enter a : \"))\n",
    "b = int(input(\"Enter b : \"))\n",
    "a = a+b\n",
    "b = a-b\n",
    "a = a-b\n",
    "print(\"After Swap a is {} and b is {}\".format(a,b))"
   ]
  },
  {
   "cell_type": "markdown",
   "metadata": {},
   "source": [
    "5. Write a Python program to generate a random number?"
   ]
  },
  {
   "cell_type": "code",
   "execution_count": 2,
   "metadata": {},
   "outputs": [
    {
     "name": "stdout",
     "output_type": "stream",
     "text": [
      "Enter Range a to b:\n",
      "a : 10\n",
      "b : 500\n",
      "Random number in range 10 to 500 is :  126\n"
     ]
    }
   ],
   "source": [
    "import random\n",
    "print(\"Enter Range a to b:\")\n",
    "a = int(input(\"a : \"))\n",
    "b = int(input(\"b : \"))\n",
    "print(\"Random number in range {} to {} is : \".format(a,b),random.randint(a,b))"
   ]
  }
 ],
 "metadata": {
  "kernelspec": {
   "display_name": "Python 3",
   "language": "python",
   "name": "python3"
  },
  "language_info": {
   "codemirror_mode": {
    "name": "ipython",
    "version": 3
   },
   "file_extension": ".py",
   "mimetype": "text/x-python",
   "name": "python",
   "nbconvert_exporter": "python",
   "pygments_lexer": "ipython3",
   "version": "3.8.5"
  }
 },
 "nbformat": 4,
 "nbformat_minor": 4
}
